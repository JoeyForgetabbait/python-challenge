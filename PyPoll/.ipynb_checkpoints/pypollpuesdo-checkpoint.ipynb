{
 "cells": [
  {
   "cell_type": "code",
   "execution_count": 1,
   "id": "5e42f6a4-bb0d-4771-a7d9-6ac44a38e39e",
   "metadata": {
    "tags": []
   },
   "outputs": [],
   "source": [
    "#import modules for methods \n",
    "import os \n",
    "import csv"
   ]
  },
  {
   "cell_type": "code",
   "execution_count": 18,
   "id": "a6ba274d-0bdc-4ab7-b9b9-2a2645c5a7ce",
   "metadata": {
    "tags": []
   },
   "outputs": [
    {
     "name": "stdout",
     "output_type": "stream",
     "text": [
      "Election Results\n",
      "-------------------------\n",
      "Total Votes: 369711\n",
      "-------------------------\n",
      "\n",
      "Charles Casper Stockham: 23.049% (85213)\n",
      "\n",
      "Diana DeGette: 73.812% (272892)\n",
      "\n",
      "Raymon Anthony Doane: 3.139% (11606)\n",
      "\n",
      "-------------------------\n",
      "Winner: Diana DeGette\n",
      "-------------------------\n"
     ]
    }
   ],
   "source": [
    "#import data set \n",
    "bankdata = os.path.join(\"Resources\", \"election_data.csv\")\n",
    "pybankanalysis = os.path.join(\"Analysis\", \"election_analysis.txt\")\n",
    "\n",
    "sumvotes = 0 #total votes cast\n",
    "candidates = [] #store candidate \n",
    "votes_per_candidate = {} #dictionary for storing candidate votes\n",
    "crnthighestvote = 0\n",
    "highestvotecandidate = ' ' \n",
    "\n",
    "\n",
    "with open(bankdata) as csvfile:\n",
    "    csvreader = csv.reader(csvfile, delimiter=',')\n",
    "    csvheader = next(csvreader)\n",
    "    #print(csvheader) #make sure data is there\n",
    "    #print(next(csvreader))\n",
    "    \n",
    "    \n",
    "    #for i in csvfile: #make sure data is there \n",
    "        #print(i)\n",
    "    for row in csvreader:\n",
    "        sumvotes += 1 \n",
    "        \n",
    "        candidate_name = row[2]\n",
    "        \n",
    "        if candidate_name not in candidates:\n",
    "            candidates.append(candidate_name) #if name in list skip over it \n",
    "            votes_per_candidate[candidate_name] = 0 #if name is not in list put in the dict. \n",
    "        votes_per_candidate[candidate_name] += 1\n",
    "        \n",
    "with open(pybankanalysis, 'w') as file:\n",
    "    election_results = (\n",
    "        'Election Results\\n'\n",
    "        '-------------------------\\n'\n",
    "        f'Total Votes: {sumvotes}\\n'\n",
    "        '-------------------------\\n')\n",
    "    print(election_results)\n",
    "    file.write(election_results)\n",
    "    \n",
    "    \n",
    "    for name in votes_per_candidate:\n",
    "        votenum = votes_per_candidate.get(name)\n",
    "        #print(votenum)\n",
    "        votepercent = votenum/sumvotes *100\n",
    "        #print(votepercent)\n",
    "        candidate_results = (f'{name}: {votepercent:.3f}% ({votenum})\\n')\n",
    "        print(candidate_results)\n",
    "        file.write(candidate_results)\n",
    "        \n",
    "        if votenum > crnthighestvote:\n",
    "            crnthighestvote = votenum\n",
    "            highestvotecandidate = name\n",
    "    \n",
    "    winning_can = (\n",
    "            '-------------------------\\n'\n",
    "            f'Winner: {highestvotecandidate}\\n'\n",
    "            '-------------------------')\n",
    "    print(winning_can)\n",
    "    file.write(winning_can)\n",
    "\n",
    "        #summarize total votes \n",
    "        #extract at candidate name -\n",
    "        #for candidate in candidate, add to dictionary \n",
    "        #add vote count to vpc dictionary"
   ]
  },
  {
   "cell_type": "code",
   "execution_count": null,
   "id": "c0f7a105-ce2f-4b94-b60a-027a5c5292bb",
   "metadata": {},
   "outputs": [],
   "source": []
  }
 ],
 "metadata": {
  "kernelspec": {
   "display_name": "Python 3 (ipykernel)",
   "language": "python",
   "name": "python3"
  },
  "language_info": {
   "codemirror_mode": {
    "name": "ipython",
    "version": 3
   },
   "file_extension": ".py",
   "mimetype": "text/x-python",
   "name": "python",
   "nbconvert_exporter": "python",
   "pygments_lexer": "ipython3",
   "version": "3.10.13"
  }
 },
 "nbformat": 4,
 "nbformat_minor": 5
}
