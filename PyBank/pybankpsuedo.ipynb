{
 "cells": [
  {
   "cell_type": "code",
   "execution_count": 28,
   "id": "c301651c-0b41-4537-ae8f-8b2fd66dfc86",
   "metadata": {},
   "outputs": [],
   "source": [
    "#import operating system for methods\n",
    "import os\n",
    "import csv"
   ]
  },
  {
   "cell_type": "code",
   "execution_count": 29,
   "id": "f0193de5-0195-4bab-8757-059010af8908",
   "metadata": {
    "tags": []
   },
   "outputs": [],
   "source": [
    "#for calculating total profit / profit-loss change between each month \n",
    "netprftlossprmth = 0 #sum proft/loss per month\n",
    "prftlossprevmth = 0 #prior month profit/loss\n",
    "prftlosscrntmth = 0 #currnt month profit/loss\n",
    "mnthprftchng = 0 #change in profit loss between each month (need top two variables for that)\n",
    "mnthprftchngsum = 0 # totals each monthly profit/loss change \n",
    "mnthpfrtchngmean = 0 #becomes final value, holding the # for each monthly profit/loss chng)\n",
    "\n",
    "greatestmnthchng = 0 #holds the greatest increase in monthly profit/loss chng value)\n",
    "greatestmnthchngdt = ' ' #holds the month of the greatest increase in monthy/profit chng\n",
    "weakmnthchng = 0 #holds the greatest decrease in monthly profit/loss chng value)\n",
    "weakmnthchngdt = ' ' #holds the month of the greatest increase in monthy/profit chng\n",
    "\n",
    "#for calculating total months\n",
    "summonths = 0 #total number of months \n"
   ]
  },
  {
   "cell_type": "code",
   "execution_count": 30,
   "id": "f89d00cd-3d2c-4496-84dc-127926e2d0ca",
   "metadata": {},
   "outputs": [],
   "source": [
    "#set path to data\n",
    "pydata = os.path.join(\"Resources\", \"budget_data.csv\")"
   ]
  },
  {
   "cell_type": "code",
   "execution_count": 31,
   "id": "5fe19a38-1cae-481c-be77-fa2bb1b28d12",
   "metadata": {},
   "outputs": [
    {
     "name": "stdout",
     "output_type": "stream",
     "text": [
      "['Date', 'Profit/Losses']\n",
      "Financial Analysis\n",
      "\n",
      "----------------------------\n",
      "\n",
      "Total Months: 86\n",
      "\n",
      "Total: $22564198\n",
      "\n",
      "Averge Change: $-8311.11\n",
      "\n",
      "Greatest Increase in Profits: Aug-16 ($1862002)\n",
      "\n",
      "Greatest Decrease in Profits: Feb-14 ($-1825558)\n"
     ]
    }
   ],
   "source": [
    "#open data with csv.reader() / Make sure data is there\n",
    "with open(pydata) as csvfile:\n",
    "    csvreader = csv.reader(csvfile, delimiter=',')\n",
    "    csvheader = next(csvreader)\n",
    "    print(csvheader) #make sure!!\n",
    "\n",
    "    for row in csvreader:\n",
    "        if summonths == 0:\n",
    "            prftlossprevmth = int(row[1])\n",
    "        else: \n",
    "            prftlosscrntmth = int(row[1])\n",
    "            mnthprftchng = prftlosscrntmth - prftlossprevmth\n",
    "            #update object holding each change value \n",
    "            mnthpfrtchngmean = mnthpfrtchngmean + 1\n",
    "\n",
    "            mnthprftchngsum = mnthprftchngsum + mnthprftchng\n",
    "            mnthchngaverage = round(mnthprftchngsum/mnthpfrtchngmean,2)\n",
    "\n",
    "            #change previous mnthly profit/loss value \n",
    "            prftlossprevmth = prftlosscrntmth\n",
    "\n",
    "            if mnthprftchng > greatestmnthchng:\n",
    "                greatestmnthchng = mnthprftchng\n",
    "                greatestmnthchngdt = row[0]\n",
    "\n",
    "            if mnthprftchng < weakmnthchng:\n",
    "                weakmnthchng = mnthprftchng\n",
    "                weakmnthchngdt = row[0]\n",
    "\n",
    "        netprftlossprmth = netprftlossprmth + int(row[1])\n",
    "        summonths = summonths + 1 \n",
    "\n",
    "#begin printing results \n",
    "print(\"Financial Analysis\")\n",
    "print()\n",
    "print(\"----------------------------\")\n",
    "print()\n",
    "print(\"Total Months: \" + str(summonths))\n",
    "print()\n",
    "print(\"Total: $\" + str(netprftlossprmth))\n",
    "print()\n",
    "print(\"Averge Change: \" + \"$\" + str(mnthchngaverage))\n",
    "print()\n",
    "print(\"Greatest Increase in Profits: \" + greatestmnthchngdt + \" ($\" + str(greatestmnthchng) + \")\")\n",
    "print()\n",
    "print(\"Greatest Decrease in Profits: \" + weakmnthchngdt + \" ($\" + str(weakmnthchng) + \")\")\n",
    "\n",
    "\n",
    "txtoutput = os.path.join(\"Analysis\", \"Pybank.txt\")\n",
    "with open(txtoutput,'w') as pybankanalysis:\n",
    "    \n",
    "    pybankanalysis.write(\"Financial Analysis\\n\")\n",
    "    \n",
    "    pybankanalysis.write(\"----------------------------\\n\")\n",
    "    \n",
    "    pybankanalysis.write(\"Total Months: \" + str(summonths) + \"\\n\")\n",
    "    \n",
    "    pybankanalysis.write(\"Total: $\" + str(netprftlossprmth) + \"\\n\")\n",
    "    \n",
    "    pybankanalysis.write(\"Averge Change: \" + \"$\" + str(mnthchngaverage) + \"\\n\")\n",
    "    \n",
    "    pybankanalysis.write(\"Greatest Increase in Profits: \" + greatestmnthchngdt + \" ($\" + str(greatestmnthchng) + \")\" + \"\\n\")\n",
    "    \n",
    "    pybankanalysis.write(\"Greatest Decrease in Profits: \" + weakmnthchngdt + \" ($\" + str(weakmnthchng) + \")\" + \"\\n\")\n",
    "\n"
   ]
  },
  {
   "cell_type": "code",
   "execution_count": null,
   "id": "5a11f87b-98b6-4954-9411-242aeed2da3f",
   "metadata": {},
   "outputs": [],
   "source": []
  },
  {
   "cell_type": "code",
   "execution_count": null,
   "id": "30775c61-7ac0-428b-a68d-09db026ea807",
   "metadata": {},
   "outputs": [],
   "source": []
  }
 ],
 "metadata": {
  "kernelspec": {
   "display_name": "Python 3 (ipykernel)",
   "language": "python",
   "name": "python3"
  },
  "language_info": {
   "codemirror_mode": {
    "name": "ipython",
    "version": 3
   },
   "file_extension": ".py",
   "mimetype": "text/x-python",
   "name": "python",
   "nbconvert_exporter": "python",
   "pygments_lexer": "ipython3",
   "version": "3.10.13"
  }
 },
 "nbformat": 4,
 "nbformat_minor": 5
}
